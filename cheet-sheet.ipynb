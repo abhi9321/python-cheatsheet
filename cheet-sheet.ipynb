{
 "cells": [
  {
   "cell_type": "code",
   "execution_count": 44,
   "metadata": {},
   "outputs": [
    {
     "name": "stdout",
     "output_type": "stream",
     "text": [
      "[1, 2, 3, 4, 5, 6, 7, 8, 9]\n"
     ]
    },
    {
     "data": {
      "text/plain": [
       "[1, 2, 3, 4, 5, 6, 7, 8, 9]"
      ]
     },
     "execution_count": 44,
     "metadata": {},
     "output_type": "execute_result"
    }
   ],
   "source": [
    "matrix = [[1, 2, 3], [4, 5], [6, 7, 8, 9]] \n",
    "  \n",
    "flatten_matrix = [] \n",
    "  \n",
    "for sublist in matrix: \n",
    "    if type(sublist) == int:\n",
    "        flatten_matrix.append(sublist) \n",
    "    else:\n",
    "        for val in sublist: \n",
    "            flatten_matrix.append(val) \n",
    "          \n",
    "print(flatten_matrix) \n",
    "\n",
    "\n",
    "#or\n",
    "\n",
    "[y for x in matrix for y in x]\n"
   ]
  },
  {
   "cell_type": "code",
   "execution_count": 62,
   "metadata": {},
   "outputs": [
    {
     "data": {
      "text/plain": [
       "[1, 2, 3, 4, 5, 6, 7, 8, 9, 12, 1]"
      ]
     },
     "execution_count": 62,
     "metadata": {},
     "output_type": "execute_result"
    }
   ],
   "source": [
    "matrix = [12,1,[1, 2, 3], [4, 5], [6, 7, 8, 9]] \n",
    "\n",
    "int_mat = [x for x in matrix if type(x)==int]\n",
    "matrix.append(int_mat)\n",
    "\n",
    "[y for x in matrix if type(x) == list for y in x]"
   ]
  },
  {
   "cell_type": "code",
   "execution_count": 86,
   "metadata": {},
   "outputs": [
    {
     "name": "stdout",
     "output_type": "stream",
     "text": [
      "The original dict is : {'gfg': 1, 'is': 2, 'the': 3, 'best': 4}\n",
      "list_dict = ['gfg', 'is', 'the', 'best']\n",
      "The dictionary key pair list is : [('gfg', 'is'), ('gfg', 'the'), ('gfg', 'best'), ('is', 'the'), ('is', 'best'), ('the', 'best')]\n"
     ]
    },
    {
     "data": {
      "text/plain": [
       "['gfg', 'is', 'the', 'best']"
      ]
     },
     "execution_count": 86,
     "metadata": {},
     "output_type": "execute_result"
    }
   ],
   "source": [
    "test_dict = {'gfg' : 1, 'is' : 2, 'the' : 3, 'best' : 4} \n",
    "  \n",
    "# printing original dict \n",
    "print(\"The original dict is : \" + str(test_dict)) \n",
    "  \n",
    "# Dictionary key combinations \n",
    "# Using list comprehension + enumerate() \n",
    "test_dict = list(test_dict) \n",
    "print(f'list_dict = {test_dict}')\n",
    "\n",
    "res = [(x, y) for idx, x in enumerate(test_dict) for y in test_dict[idx + 1:]] \n",
    "      \n",
    "# printing result \n",
    "print(\"The dictionary key pair list is : \" + str(res))\n",
    "test_dict"
   ]
  },
  {
   "cell_type": "code",
   "execution_count": 8,
   "metadata": {},
   "outputs": [
    {
     "name": "stdout",
     "output_type": "stream",
     "text": [
      "{1: 2, 2: 3, 3: 4}\n"
     ]
    }
   ],
   "source": [
    "t1=[1,2,3]\n",
    "t2=[2,3,4]\n",
    "print(dict(zip(t1, t2)))\n",
    "      "
   ]
  },
  {
   "cell_type": "code",
   "execution_count": 9,
   "metadata": {},
   "outputs": [
    {
     "data": {
      "text/plain": [
       "[1, 2]"
      ]
     },
     "execution_count": 9,
     "metadata": {},
     "output_type": "execute_result"
    }
   ],
   "source": [
    "t1[:-1]"
   ]
  },
  {
   "cell_type": "code",
   "execution_count": 95,
   "metadata": {},
   "outputs": [
    {
     "name": "stdout",
     "output_type": "stream",
     "text": [
      "    *\n",
      "   ***\n",
      "  *****\n",
      " *******\n",
      "*********\n"
     ]
    }
   ],
   "source": [
    "# star triangale\n",
    "def pyfunc(r):\n",
    "    for x in range(r):\n",
    "        print(' ' *(r-x-1) + '*' *(2*x+1))    \n",
    "\n",
    "pyfunc(5)"
   ]
  },
  {
   "cell_type": "code",
   "execution_count": 17,
   "metadata": {},
   "outputs": [
    {
     "name": "stdout",
     "output_type": "stream",
     "text": [
      "    *\n",
      "   ***\n",
      "  *****\n",
      " *******\n",
      "*********\n"
     ]
    }
   ],
   "source": [
    "n=5\n",
    "for i in range(n):\n",
    "    print(' ' *(n-i-1) + '*' *(2*i+1))"
   ]
  },
  {
   "cell_type": "code",
   "execution_count": 52,
   "metadata": {},
   "outputs": [
    {
     "name": "stdout",
     "output_type": "stream",
     "text": [
      "Enter the terms : 3\n",
      "0 1 1 "
     ]
    }
   ],
   "source": [
    "# fibonacci\n",
    "a=int(input(\"Enter the terms : \"))\n",
    "f=0 #first element of series\n",
    "s=1#second element of series\n",
    "if a<=0:\n",
    "    print(\"The requested series is\",f)\n",
    "else:\n",
    "    print(f,s,end=\" \")\n",
    "    for x in range(2,a):\n",
    "        next=f+s\n",
    "        print(next,end=\" \")\n",
    "        f=s\n",
    "        s=next"
   ]
  },
  {
   "cell_type": "code",
   "execution_count": 359,
   "metadata": {
    "scrolled": true
   },
   "outputs": [
    {
     "name": "stdout",
     "output_type": "stream",
     "text": [
      "0\n",
      "1\n",
      "1\n",
      "2\n",
      "3\n",
      "0\n",
      "1\n",
      "1\n",
      "2\n",
      "3\n"
     ]
    }
   ],
   "source": [
    "n=5\n",
    "a=0 \n",
    "b=1\n",
    "for i in range(0,n):\n",
    "    print(a)\n",
    "    a,b = b, b+a\n",
    "    \n",
    "# ---\n",
    "def fib(n):\n",
    "    a, b = 0, 1\n",
    "    for i in range(0,n):\n",
    "        yield a\n",
    "        a,b= b,b+a\n",
    "\n",
    "for i in fib(5):\n",
    "    print(i)"
   ]
  },
  {
   "cell_type": "code",
   "execution_count": 92,
   "metadata": {},
   "outputs": [
    {
     "name": "stdout",
     "output_type": "stream",
     "text": [
      "Enter the terms: 12\n",
      "not prime\n"
     ]
    }
   ],
   "source": [
    "# prime or not\n",
    "user_input=int(input(\"Enter the terms: \"))\n",
    "if int(user_input)>1:\n",
    "    \n",
    "    for i in range(2,int(user_input)):\n",
    "\n",
    "        if user_input %i == 0:\n",
    "            print('not prime')\n",
    "            break\n",
    "        else:\n",
    "            print('prime')\n",
    "            break\n",
    "else:\n",
    "    print('prime')\n",
    "    "
   ]
  },
  {
   "cell_type": "code",
   "execution_count": 28,
   "metadata": {},
   "outputs": [
    {
     "name": "stdout",
     "output_type": "stream",
     "text": [
      "enter sequence : aa\n",
      "palindrome\n"
     ]
    }
   ],
   "source": [
    "# palindrome\n",
    "a=input(\"enter sequence : \")\n",
    "b=a[::-1]\n",
    "if a==b:\n",
    "    print(\"palindrome\")\n",
    "else:\n",
    "    print(\"Not a Palindrome\")\n",
    "    "
   ]
  },
  {
   "cell_type": "code",
   "execution_count": 117,
   "metadata": {},
   "outputs": [
    {
     "name": "stdout",
     "output_type": "stream",
     "text": [
      "A0: {'a': 1, 'b': 2, 'c': 3, 'd': 4, 'e': 5}, A1: range(0, 10),A2:[],A3: [1, 2, 3, 4, 5],A4: [1, 2, 3, 4, 5],A5:{0: 0, 1: 1, 2: 4, 3: 9, 4: 16, 5: 25, 6: 36, 7: 49, 8: 64, 9: 81},A6:[[0, 0], [1, 1], [2, 4], [3, 9], [4, 16], [5, 25], [6, 36], [7, 49], [8, 64], [9, 81]]\n"
     ]
    }
   ],
   "source": [
    "A0 = dict(zip(('a','b','c','d','e'),(1,2,3,4,5)))\n",
    "A1 = range(10)\n",
    "A2 = sorted([i for i in A1 if i in A0])\n",
    "A3 = sorted([A0[s] for s in A0])\n",
    "A4 = [i for i in A1 if i in A3]\n",
    "A5 = {i:i*i for i in A1}\n",
    "A6 = [[i,i*i] for i in A1]\n",
    "print(f'A0: {A0}, A1: {A1},A2:{A2},A3: {A3},A4: {A4},A5:{A5},A6:{A6}')\n"
   ]
  },
  {
   "cell_type": "code",
   "execution_count": 40,
   "metadata": {},
   "outputs": [
    {
     "data": {
      "text/plain": [
       "[3, 12, 121.3, 11213]"
      ]
     },
     "execution_count": 40,
     "metadata": {},
     "output_type": "execute_result"
    }
   ],
   "source": [
    "a=[121.3,12,3,11213]\n",
    "a.sort()\n",
    "a"
   ]
  },
  {
   "cell_type": "code",
   "execution_count": 37,
   "metadata": {},
   "outputs": [
    {
     "data": {
      "text/plain": [
       "{'a': 1, 'b': 2, 'c': 3, 'd': 4, 'e': 5}"
      ]
     },
     "execution_count": 37,
     "metadata": {},
     "output_type": "execute_result"
    }
   ],
   "source": [
    "dict(zip(('a','b','c','d','e'),(1,2,3,4,5)))"
   ]
  },
  {
   "cell_type": "code",
   "execution_count": 125,
   "metadata": {},
   "outputs": [
    {
     "name": "stdout",
     "output_type": "stream",
     "text": [
      "{'a': 1, 'b': 2, 'c': 3, 'e': 5}\n",
      "dict_keys(['a', 'b', 'c', 'e'])\n"
     ]
    }
   ],
   "source": [
    "# list of keys in dictionary\n",
    "mydict={'a':1,'b':2,'c':3,'e':5}\n",
    "print(mydict)\n",
    "print(mydict.keys())"
   ]
  },
  {
   "cell_type": "code",
   "execution_count": 126,
   "metadata": {},
   "outputs": [
    {
     "name": "stdout",
     "output_type": "stream",
     "text": [
      "20\n"
     ]
    }
   ],
   "source": [
    "eval('print(max(22,22.0)-min(2,3))')"
   ]
  },
  {
   "cell_type": "code",
   "execution_count": 41,
   "metadata": {},
   "outputs": [
    {
     "data": {
      "text/plain": [
       "[2, 0, False]"
      ]
     },
     "execution_count": 41,
     "metadata": {},
     "output_type": "execute_result"
    }
   ],
   "source": [
    "list(filter(lambda x:x%2==0,[1,2,0,False]))"
   ]
  },
  {
   "cell_type": "code",
   "execution_count": 44,
   "metadata": {},
   "outputs": [
    {
     "data": {
      "text/plain": [
       "'one two three four five six seven'"
      ]
     },
     "execution_count": 44,
     "metadata": {},
     "output_type": "execute_result"
    }
   ],
   "source": [
    "# list to string\n",
    "nums=['one','two','three','four','five','six','seven']\n",
    "' '.join(nums)\n"
   ]
  },
  {
   "cell_type": "code",
   "execution_count": 109,
   "metadata": {},
   "outputs": [
    {
     "name": "stdout",
     "output_type": "stream",
     "text": [
      "['one', 'two', 'three', 'four', 'five', 'six', 'seven']\n"
     ]
    }
   ],
   "source": [
    "# string to list\n",
    "st ='one two three four five six seven'\n",
    "print(st.split(' '))\n"
   ]
  },
  {
   "cell_type": "code",
   "execution_count": 143,
   "metadata": {},
   "outputs": [
    {
     "data": {
      "text/plain": [
       "6"
      ]
     },
     "execution_count": 143,
     "metadata": {},
     "output_type": "execute_result"
    }
   ],
   "source": [
    "# recursion: function makes a call to itself\n",
    "\n",
    "def facto(n):\n",
    "    if n==1: \n",
    "        return 1\n",
    "    return n*facto(n-1)\n",
    "\n",
    "facto(3)"
   ]
  },
  {
   "cell_type": "code",
   "execution_count": 145,
   "metadata": {},
   "outputs": [
    {
     "name": "stdout",
     "output_type": "stream",
     "text": [
      "[('a', 1), ('b', 2), ('c', 3)]\n",
      "{'a': 1, 'b': 2, 'c': 3}\n"
     ]
    }
   ],
   "source": [
    "# zip() returns an iterator of tuples.\n",
    "\n",
    "print(list(zip(['a','b','c'],[1,2,3])))\n",
    "\n",
    "print(dict(zip(['a','b','c'],[1,2,3])))\n"
   ]
  },
  {
   "cell_type": "code",
   "execution_count": 147,
   "metadata": {},
   "outputs": [
    {
     "data": {
      "text/plain": [
       "'aBHiSHEk'"
      ]
     },
     "execution_count": 147,
     "metadata": {},
     "output_type": "execute_result"
    }
   ],
   "source": [
    "# swap case\n",
    "'AbhIsheK'.swapcase()"
   ]
  },
  {
   "cell_type": "code",
   "execution_count": 149,
   "metadata": {},
   "outputs": [
    {
     "name": "stdout",
     "output_type": "stream",
     "text": [
      "Hi,mynameisAbhishek"
     ]
    }
   ],
   "source": [
    "# code to print everything in the string except the spaces.\n",
    "s = \"Hi, my name is Abhishek\"\n",
    "for i in s:\n",
    "    if i==' ': continue\n",
    "    print(i,end='')"
   ]
  },
  {
   "cell_type": "code",
   "execution_count": 45,
   "metadata": {},
   "outputs": [
    {
     "data": {
      "text/plain": [
       "'Hi,mynameisAbhishek'"
      ]
     },
     "execution_count": 45,
     "metadata": {},
     "output_type": "execute_result"
    }
   ],
   "source": [
    "s = \"Hi, my name is Abhishek\"\n",
    "# s = s.split() string to list\n",
    "# s = ''.join(s) list to string\n",
    "''.join(s.split())"
   ]
  },
  {
   "cell_type": "code",
   "execution_count": 167,
   "metadata": {},
   "outputs": [
    {
     "name": "stdout",
     "output_type": "stream",
     "text": [
      "list1: [10, 'a'], list2: [123] list3: [10, 'a']\n"
     ]
    }
   ],
   "source": [
    "def extendList(val, list=[]):\n",
    "    list.append(val)\n",
    "    return list\n",
    "list1 = extendList(10)\n",
    "list2 = extendList(123,[])\n",
    "list3 = extendList('a')\n",
    "\n",
    "print(f\"list1: {list1}, list2: {list2} list3: {list3}\")"
   ]
  },
  {
   "cell_type": "code",
   "execution_count": 48,
   "metadata": {},
   "outputs": [
    {
     "name": "stdout",
     "output_type": "stream",
     "text": [
      "4\n"
     ]
    }
   ],
   "source": [
    "word='word'\n",
    "print(word.__len__())\n"
   ]
  },
  {
   "cell_type": "code",
   "execution_count": 51,
   "metadata": {},
   "outputs": [
    {
     "name": "stdout",
     "output_type": "stream",
     "text": [
      "3\n",
      "2\n",
      "1\n",
      "3\n",
      "2\n",
      "1\n",
      "[3, 2, 1]\n",
      "[3, 2, 1]\n"
     ]
    }
   ],
   "source": [
    "l =[1,2,3]\n",
    "for i in reversed(l):\n",
    "    print(i)\n",
    "# or\n",
    "x=[1,2,3] \n",
    "newx = []\n",
    "for i in range(1, len(x)+1):\n",
    "  newx.append(x[-i])\n",
    "  print(x[-i])\n",
    "   \n",
    "print(newx)\n",
    "# or\n",
    "print(l[::-1])"
   ]
  },
  {
   "cell_type": "code",
   "execution_count": 59,
   "metadata": {},
   "outputs": [
    {
     "data": {
      "text/plain": [
       "{2, 3, 4, 5, 6}"
      ]
     },
     "execution_count": 59,
     "metadata": {},
     "output_type": "execute_result"
    }
   ],
   "source": [
    "# filter()- This function lets us keep the values that satisfy some conditional logic. Let’s take an example.\n",
    "set(filter(lambda x:x>3, range(7)))\n",
    "\n",
    "# set(filter(lambda x:x**2-x, range(7)))"
   ]
  },
  {
   "cell_type": "code",
   "execution_count": 126,
   "metadata": {},
   "outputs": [
    {
     "data": {
      "text/plain": [
       "{0, 1, 8, 27, 64, 125, 216}"
      ]
     },
     "execution_count": 126,
     "metadata": {},
     "output_type": "execute_result"
    }
   ],
   "source": [
    "# map()- This function applies a function to each element in the iterable\n",
    "set(map(lambda x:x**3, range(7)))"
   ]
  },
  {
   "cell_type": "code",
   "execution_count": 134,
   "metadata": {},
   "outputs": [
    {
     "data": {
      "text/plain": [
       "[1, 2, 3]"
      ]
     },
     "execution_count": 134,
     "metadata": {},
     "output_type": "execute_result"
    }
   ],
   "source": [
    "def square(a):\n",
    "    return a**2\n",
    "\n",
    "num = [1,2,3]\n",
    "list(map(square,num))"
   ]
  },
  {
   "cell_type": "code",
   "execution_count": 60,
   "metadata": {},
   "outputs": [
    {
     "data": {
      "text/plain": [
       "[4]"
      ]
     },
     "execution_count": 60,
     "metadata": {},
     "output_type": "execute_result"
    }
   ],
   "source": [
    "def ge(a):\n",
    "    return a>3\n",
    "num = [1,2,3,4]\n",
    "list(filter(ge,num))"
   ]
  },
  {
   "cell_type": "code",
   "execution_count": 70,
   "metadata": {},
   "outputs": [
    {
     "data": {
      "text/plain": [
       "'make'"
      ]
     },
     "execution_count": 70,
     "metadata": {},
     "output_type": "execute_result"
    }
   ],
   "source": [
    "# search for pattern\n",
    "import re\n",
    "rhyme=re.search('.ake','I would make a cake, but I hate to bake')\n",
    "rhyme.group()\n",
    "# rhyme"
   ]
  },
  {
   "cell_type": "code",
   "execution_count": 132,
   "metadata": {},
   "outputs": [
    {
     "data": {
      "text/plain": [
       "'abc@gmail.com'"
      ]
     },
     "execution_count": 132,
     "metadata": {},
     "output_type": "execute_result"
    }
   ],
   "source": [
    "import re\n",
    "e=re.search(r'[0-9a-zA-Z.]+@[a-zA-Z]+\\.(com|co\\.in)$','abc@gmail.com')\n",
    "e.group()"
   ]
  },
  {
   "cell_type": "code",
   "execution_count": 213,
   "metadata": {},
   "outputs": [
    {
     "data": {
      "text/plain": [
       "'Abi'"
      ]
     },
     "execution_count": 213,
     "metadata": {},
     "output_type": "execute_result"
    }
   ],
   "source": [
    "# remove whitespace\n",
    "' Abi '.strip()\n"
   ]
  },
  {
   "cell_type": "code",
   "execution_count": 82,
   "metadata": {},
   "outputs": [
    {
     "data": {
      "text/plain": [
       "[{'type': 'elephant', 'name': 'Devon', 'age': 3},\n",
       " {'type': 'puma', 'name': 'Moe', 'age': 5},\n",
       " {'type': 'penguin', 'name': 'Stephanie', 'age': 8}]"
      ]
     },
     "execution_count": 82,
     "metadata": {},
     "output_type": "execute_result"
    }
   ],
   "source": [
    "# sorting dictionary \n",
    "animals = [{'type': 'penguin', 'name': 'Stephanie', 'age': 8},\n",
    "           {'type': 'elephant', 'name': 'Devon', 'age': 3},\n",
    "           {'type': 'puma', 'name': 'Moe', 'age': 5},]\n",
    "\n",
    "sorted(animals,key=(lambda animal: animal['age']))\n",
    "\n"
   ]
  },
  {
   "cell_type": "code",
   "execution_count": 139,
   "metadata": {},
   "outputs": [
    {
     "data": {
      "text/plain": [
       "{'elliot': [91], 'neelam': [98], 'bianca': [81]}"
      ]
     },
     "execution_count": 139,
     "metadata": {},
     "output_type": "execute_result"
    }
   ],
   "source": [
    "student_grades = {}\n",
    "grades = [('elliot', 91),('neelam', 98),('bianca', 81),('elliot', 88),]\n",
    "for name, grade in grades:\n",
    "    if name not in student_grades:\n",
    "        student_grades[name] = []\n",
    "        student_grades[name].append(grade)\n",
    "#     else:\n",
    "#         student_grades[name].append(grade)\n",
    "\n",
    "student_grades"
   ]
  },
  {
   "cell_type": "code",
   "execution_count": null,
   "metadata": {},
   "outputs": [],
   "source": []
  },
  {
   "cell_type": "code",
   "execution_count": 84,
   "metadata": {},
   "outputs": [
    {
     "name": "stdout",
     "output_type": "stream",
     "text": [
      "{'if': 2, 'there': 4, 'was': 4, 'but': 1, 'not': 2}\n"
     ]
    }
   ],
   "source": [
    "# count the occurence of words\n",
    "from collections import Counter\n",
    "words = \"if there was there was but if there was not there was not\".split()\n",
    "\n",
    "counts = Counter(words)\n",
    "print(dict(counts))\n"
   ]
  },
  {
   "cell_type": "code",
   "execution_count": 247,
   "metadata": {},
   "outputs": [
    {
     "data": {
      "text/plain": [
       "[('Monique', 'Ashish'),\n",
       " ('Monique', 'Devon'),\n",
       " ('Monique', 'Bernie'),\n",
       " ('Ashish', 'Monique'),\n",
       " ('Ashish', 'Devon'),\n",
       " ('Ashish', 'Bernie'),\n",
       " ('Devon', 'Monique'),\n",
       " ('Devon', 'Ashish'),\n",
       " ('Devon', 'Bernie'),\n",
       " ('Bernie', 'Monique'),\n",
       " ('Bernie', 'Ashish'),\n",
       " ('Bernie', 'Devon')]"
      ]
     },
     "execution_count": 247,
     "metadata": {},
     "output_type": "execute_result"
    }
   ],
   "source": [
    "# permutation and combination\n",
    "import itertools\n",
    "friends = ['Monique', 'Ashish', 'Devon', 'Bernie']\n",
    "list(itertools.permutations(friends, r=2))"
   ]
  },
  {
   "cell_type": "code",
   "execution_count": 88,
   "metadata": {},
   "outputs": [
    {
     "data": {
      "text/plain": [
       "result(Physics=86, Chemistry=95, Maths=86)"
      ]
     },
     "execution_count": 88,
     "metadata": {},
     "output_type": "execute_result"
    }
   ],
   "source": [
    "# A namedtuple will let us access a tuple’s elements using a name/label.\n",
    "from collections import namedtuple\n",
    "result=namedtuple('result','Physics Chemistry Maths') #format\n",
    "abi=result(Physics=86,Chemistry=95,Maths=86) #declaring the tuple\n",
    "abi\n"
   ]
  },
  {
   "cell_type": "code",
   "execution_count": 99,
   "metadata": {},
   "outputs": [
    {
     "data": {
      "text/plain": [
       "['sun', 'mon']"
      ]
     },
     "execution_count": 99,
     "metadata": {},
     "output_type": "execute_result"
    }
   ],
   "source": [
    "# yield - keyword in Python can turn any function into a generator. \n",
    "\n",
    "def testgen(index):\n",
    "    weekdays = ['sun','mon','tue','wed','thu','fri','sat']\n",
    "    yield weekdays[index]\n",
    "    yield weekdays[index+1]\n",
    "\n",
    "day = testgen(0)\n",
    "list(day)"
   ]
  },
  {
   "cell_type": "code",
   "execution_count": 275,
   "metadata": {},
   "outputs": [
    {
     "data": {
      "text/plain": [
       "['h', 'e', 'l', 'l', 'o']"
      ]
     },
     "execution_count": 275,
     "metadata": {},
     "output_type": "execute_result"
    }
   ],
   "source": [
    "\n",
    "list('hello')"
   ]
  },
  {
   "cell_type": "code",
   "execution_count": 300,
   "metadata": {},
   "outputs": [
    {
     "name": "stdout",
     "output_type": "stream",
     "text": [
      "Enter a number:12\n",
      "The total sum of digits is: 3\n"
     ]
    }
   ],
   "source": [
    "# Find Sum of the Digits of a Number\n",
    "n=int(input(\"Enter a number:\"))\n",
    "tot=0\n",
    "while(n>0):\n",
    "    dig=n%10\n",
    "    tot=tot+dig\n",
    "    n=n//10\n",
    "print(\"The total sum of digits is:\",tot)"
   ]
  },
  {
   "cell_type": "code",
   "execution_count": 304,
   "metadata": {},
   "outputs": [
    {
     "name": "stdout",
     "output_type": "stream",
     "text": [
      "Enter number: 12\n",
      "The reverse of the number: 21\n"
     ]
    }
   ],
   "source": [
    "# Program to Reverse a Number\n",
    "n=int(input(\"Enter number: \"))\n",
    "rev=0\n",
    "while(n>0):\n",
    "    dig=n%10\n",
    "    rev=rev*10+dig\n",
    "    n=n//10\n",
    "print(\"The reverse of the number:\",rev)"
   ]
  },
  {
   "cell_type": "code",
   "execution_count": 158,
   "metadata": {},
   "outputs": [
    {
     "name": "stdout",
     "output_type": "stream",
     "text": [
      "1\n",
      "2\n",
      "3\n"
     ]
    },
    {
     "data": {
      "text/plain": [
       "6"
      ]
     },
     "execution_count": 158,
     "metadata": {},
     "output_type": "execute_result"
    }
   ],
   "source": [
    "a=123\n",
    "s=0\n",
    "for i in str(a):\n",
    "    print(i)\n",
    "    s = s+int(i)\n",
    "s"
   ]
  },
  {
   "cell_type": "code",
   "execution_count": 218,
   "metadata": {},
   "outputs": [
    {
     "name": "stdout",
     "output_type": "stream",
     "text": [
      "Enter first string:abi\n",
      "Enter second string:bi\n",
      "The common letters are:\n",
      "i\n",
      "b\n"
     ]
    }
   ],
   "source": [
    "# to Check Common Letters in Two Input Strings:\n",
    "s1= input(\"Enter first string:\")\n",
    "s2= input(\"Enter second string:\")\n",
    "a=list(set(s1)&set(s2))\n",
    "print(\"The common letters are:\")\n",
    "for i in a:\n",
    "    print(i)"
   ]
  },
  {
   "cell_type": "code",
   "execution_count": null,
   "metadata": {},
   "outputs": [],
   "source": [
    "# Python Multiple users append to the same file at the same time\n",
    "import fcntl\n",
    "new_entry = \"foobar\"\n",
    "with open(\"/somepath/somefile.txt\", \"a\") as g:\n",
    "    fcntl.flock(g, fcntl.LOCK_EX)\n",
    "    g.write(new_entry)\n",
    "    fcntl.flock(g, fcntl.LOCK_UN)"
   ]
  },
  {
   "cell_type": "code",
   "execution_count": 107,
   "metadata": {},
   "outputs": [
    {
     "data": {
      "text/plain": [
       "13"
      ]
     },
     "execution_count": 107,
     "metadata": {},
     "output_type": "execute_result"
    }
   ],
   "source": [
    "# multipledispatch for method overloading\n",
    "\n",
    "from multipledispatch import dispatch\n",
    "\n",
    "@dispatch(int) \n",
    "def f(x):\n",
    "    return x + 1\n",
    "\n",
    "@dispatch(int,int) \n",
    "def f(x,y):\n",
    "    return x + y\n",
    "\n",
    "f(1,3)\n",
    "f(12)"
   ]
  },
  {
   "cell_type": "code",
   "execution_count": 113,
   "metadata": {},
   "outputs": [
    {
     "name": "stdout",
     "output_type": "stream",
     "text": [
      "['a', 'c', 'r']\n",
      "acr\n",
      "['e', 'e', 'r', 't']\n",
      "eert\n",
      "['b', 'o', 'y']\n",
      "boy\n",
      "['g', 'i', 'l', 'r']\n",
      "gilr\n",
      "['a', 'c', 'r']\n",
      "acr\n",
      "defaultdict(<class 'list'>, {'acr': ['car', 'arc'], 'eert': ['tree'], 'boy': ['boy'], 'gilr': ['girl']})\n",
      "acr ['car', 'arc']\n"
     ]
    }
   ],
   "source": [
    "# anagram : a word, phrase, or name formed by rearranging the letters of another, such as spar, formed from rasp.\n",
    "from collections import defaultdict\n",
    "def get_anagrams(source):\n",
    "    d = defaultdict(list)\n",
    "    for word in source:\n",
    "        print(sorted(word))\n",
    "        key = \"\".join(sorted(word))\n",
    "        print(key)\n",
    "        d[key].append(word)\n",
    "    return d\n",
    "\n",
    "def print_anagrams(word_source):\n",
    "    d = get_anagrams(word_source)\n",
    "    print(d)\n",
    "    for key, anagrams in d.items():\n",
    "        if len(anagrams) > 1:\n",
    "            print(key, anagrams)\n",
    "\n",
    "word_source = [\"car\", \"tree\", \"boy\", \"girl\", \"arc\"]\n",
    "print_anagrams(word_source)            "
   ]
  },
  {
   "cell_type": "code",
   "execution_count": 114,
   "metadata": {},
   "outputs": [
    {
     "name": "stdout",
     "output_type": "stream",
     "text": [
      "Counter({'car': 1, 'tree': 1, 'boy': 1, 'girl': 1, 'arc': 1})\n",
      "Counter({'d': 2, 'w': 1, 'o': 1, 'r': 1})\n"
     ]
    }
   ],
   "source": [
    "# counter gives the occurence of element in a list or string\n",
    "\n",
    "from collections import Counter\n",
    "\n",
    "print(Counter([\"car\", \"tree\", \"boy\", \"girl\", \"arc\"]))\n",
    "\n",
    "print(Counter('wordd'))"
   ]
  },
  {
   "cell_type": "code",
   "execution_count": 87,
   "metadata": {},
   "outputs": [
    {
     "data": {
      "text/plain": [
       "'true'"
      ]
     },
     "execution_count": 87,
     "metadata": {},
     "output_type": "execute_result"
    }
   ],
   "source": [
    "# function to check pangram \n",
    "  \n",
    "def pangram(input): \n",
    "      \n",
    "    # convert input string into lower case \n",
    "    input = input.lower() \n",
    "      \n",
    "    # convert input string into Set() so that we will \n",
    "    # list of all unique characters present in sentence \n",
    "    input = set(input) \n",
    "  \n",
    "    # separate out all alphabets \n",
    "    # ord(ch) returns ascii value of character \n",
    "    alpha = [ ch for ch in input if ord(ch) in range(ord('a'), ord('z')+1)] \n",
    "  \n",
    "    if len(alpha) == 26: \n",
    "        return 'true'\n",
    "    else: \n",
    "        return 'false'\n",
    "\n",
    "word = \"The quick brown fox jumps over the lazy dog\"\n",
    "pangram(word)"
   ]
  },
  {
   "cell_type": "code",
   "execution_count": 2,
   "metadata": {},
   "outputs": [
    {
     "name": "stdout",
     "output_type": "stream",
     "text": [
      "time : 1.0050367510000005\n",
      "0.007247549000000575\n",
      "0.07588456000000043\n"
     ]
    }
   ],
   "source": [
    "# profiling\n",
    "import time\n",
    "s = time.perf_counter()\n",
    "time.sleep(1)\n",
    "e = time.perf_counter()\n",
    "print(f'time : {e-s}')\n",
    "\n",
    "import timeit\n",
    "# or use timit\n",
    "print(timeit.timeit('list(set([1, 2, 3, 1, 7]))', number=10000))\n",
    "\n",
    "\n",
    "\n",
    "\n",
    "import timeit\n",
    "import_module = \"import random\"\n",
    "testcode = ''' \n",
    "def test(): \n",
    "    return random.randint(10, 100)\n",
    "'''\n",
    "print(timeit.timeit(stmt=testcode, setup=import_module))"
   ]
  },
  {
   "cell_type": "code",
   "execution_count": 154,
   "metadata": {},
   "outputs": [
    {
     "name": "stdout",
     "output_type": "stream",
     "text": [
      "0.0023554609942948446\n"
     ]
    }
   ],
   "source": [
    "def power_two(numbers):\n",
    "    new_list=[]\n",
    "    for n in numbers:\n",
    "        if n%2==0:\n",
    "            new_list.append(n**2)\n",
    "    return new_list\n",
    "\n",
    "numbers = range(0,11)\n",
    "# Print the execution time \n",
    "print(timeit.timeit('power_two(numbers)', globals=globals(), number=1000))"
   ]
  },
  {
   "cell_type": "code",
   "execution_count": 7,
   "metadata": {},
   "outputs": [
    {
     "name": "stdout",
     "output_type": "stream",
     "text": [
      "hello Abhishek\n",
      "original func took : 2.001777396999998 sec\n"
     ]
    }
   ],
   "source": [
    "# decorator\n",
    "import time\n",
    "def my_time(orig_func):\n",
    "    def wrapper(*args,**kwargs):\n",
    "        start = time.perf_counter()\n",
    "        result = orig_func(*args,**kwargs)\n",
    "        end = time.perf_counter()\n",
    "        print(f'original func took : {end-start} sec')\n",
    "        return result\n",
    "    return wrapper\n",
    "\n",
    "@my_time\n",
    "def foo(name):\n",
    "    time.sleep(2)\n",
    "    print(f'hello {name}')\n",
    "    \n",
    "foo('Abhishek')        "
   ]
  },
  {
   "cell_type": "code",
   "execution_count": 3,
   "metadata": {},
   "outputs": [],
   "source": [
    "# global interpreter lock\n",
    "# The mechanism used by the CPython interpreter to assure that only one thread executes Python bytecode at a time. \n",
    "# This simplifies the CPython implementation by making the object model implicitly safe against concurrent access.\n",
    "\n",
    "\n"
   ]
  },
  {
   "cell_type": "code",
   "execution_count": 10,
   "metadata": {},
   "outputs": [],
   "source": [
    "# python is call by object reference\n"
   ]
  },
  {
   "cell_type": "code",
   "execution_count": 22,
   "metadata": {},
   "outputs": [
    {
     "data": {
      "text/plain": [
       "['Abhishek', 'Shek']"
      ]
     },
     "execution_count": 22,
     "metadata": {},
     "output_type": "execute_result"
    }
   ],
   "source": [
    "import re\n",
    "\n",
    "txt = \"\"\"\n",
    "Name: Abhishek\n",
    "Age: 27\n",
    "\n",
    "Name: Shek\n",
    "Age: 28\n",
    "\n",
    "\"\"\"\n",
    "\n",
    "pattern = re.compile(\"Name: (\\w+)\")\n",
    "pattern.findall(txt)\n"
   ]
  },
  {
   "cell_type": "code",
   "execution_count": 165,
   "metadata": {},
   "outputs": [
    {
     "name": "stdout",
     "output_type": "stream",
     "text": [
      "11\n",
      "10\n"
     ]
    }
   ],
   "source": [
    "#global and local variables\n",
    "ak=10\n",
    "def fun():\n",
    "    ak=11\n",
    "    print(ak)\n",
    "    \n",
    "fun()\n",
    "print(ak)"
   ]
  },
  {
   "cell_type": "code",
   "execution_count": 45,
   "metadata": {},
   "outputs": [
    {
     "name": "stdout",
     "output_type": "stream",
     "text": [
      "0.6560630064891336\n",
      "9\n"
     ]
    }
   ],
   "source": [
    "# \n",
    "import random\n",
    "print(random.random())\n",
    "\n",
    "print(random.randrange(1,44))"
   ]
  },
  {
   "cell_type": "code",
   "execution_count": 26,
   "metadata": {},
   "outputs": [
    {
     "data": {
      "text/plain": [
       "[]"
      ]
     },
     "execution_count": 26,
     "metadata": {},
     "output_type": "execute_result"
    }
   ],
   "source": [
    "# set\n",
    "myset = set() or myset = {12,213,4,1}\n",
    "\n",
    "myset.add('hi')\n",
    "myset.add((1,1)) # can add tuple or string (immutable objs), cannot add list\n",
    "myset.remove((1,1))\n",
    "myset.discard('not der') # no error if item is not present\n",
    "myset.clear()\n",
    "\n",
    "sorted(myset, reverse = True) # to order set\n",
    "# nested set is not possible"
   ]
  },
  {
   "cell_type": "code",
   "execution_count": 68,
   "metadata": {},
   "outputs": [
    {
     "name": "stdout",
     "output_type": "stream",
     "text": [
      "[1, 2, 3, 7]\n"
     ]
    }
   ],
   "source": [
    "# remove duplicate\n",
    "\n",
    "print(list(set([1, 2, 3, 1, 7])))\n"
   ]
  },
  {
   "cell_type": "code",
   "execution_count": 36,
   "metadata": {},
   "outputs": [
    {
     "name": "stdout",
     "output_type": "stream",
     "text": [
      "[1, 2, 3, 5, 6, 7, 8]\n"
     ]
    },
    {
     "data": {
      "text/plain": [
       "[8, 5, 6, 7]"
      ]
     },
     "execution_count": 36,
     "metadata": {},
     "output_type": "execute_result"
    }
   ],
   "source": [
    "# Your list with duplicate values\n",
    "duplicates = [1, 2, 3, 1, 2, 5, 6, 7, 8]\n",
    "\n",
    "# Print the unique `duplicates` list\n",
    "print(list(set(duplicates)))\n",
    "\n",
    "# A list with small numbers \n",
    "smallNumbers = [1, 2, 3]\n",
    "\n",
    "# Print the unique `duplicates` list without the small numbers\n",
    "list(set(duplicates) - set(smallNumbers))"
   ]
  },
  {
   "cell_type": "code",
   "execution_count": 87,
   "metadata": {},
   "outputs": [
    {
     "data": {
      "text/plain": [
       "array([[0., 0.],\n",
       "       [0., 0.],\n",
       "       [0., 0.],\n",
       "       [0., 0.]])"
      ]
     },
     "execution_count": 87,
     "metadata": {},
     "output_type": "execute_result"
    }
   ],
   "source": [
    "import numpy\n",
    "# Make a NumPy array of four rows and two columns and filled with 0\n",
    "numpy.zeros(shape=(4,2))"
   ]
  },
  {
   "cell_type": "code",
   "execution_count": 91,
   "metadata": {},
   "outputs": [
    {
     "data": {
      "text/plain": [
       "array([[1., 1.],\n",
       "       [1., 1.],\n",
       "       [1., 1.]])"
      ]
     },
     "execution_count": 91,
     "metadata": {},
     "output_type": "execute_result"
    }
   ],
   "source": [
    "numpy.ones((3,2))"
   ]
  },
  {
   "cell_type": "code",
   "execution_count": 166,
   "metadata": {},
   "outputs": [
    {
     "name": "stdout",
     "output_type": "stream",
     "text": [
      "[5, 7, 9]\n",
      "[5, 7, 9]\n"
     ]
    }
   ],
   "source": [
    "# add 2 lists\n",
    "list1=[1, 2, 3]\n",
    "list2=[4, 5, 6]\n",
    "\n",
    "from operator import add\n",
    "print(list(map(add, list1, list2)))\n",
    "\n",
    "\n",
    "print([a+b for a,b in zip(list1,list2)])"
   ]
  },
  {
   "cell_type": "code",
   "execution_count": 129,
   "metadata": {},
   "outputs": [
    {
     "data": {
      "text/plain": [
       "([0, 1, 4, 9, 16, 25, 36, 49, 64, 81],\n",
       " [1, 2, 4, 8, 16, 32, 64, 128, 256, 512, 1024, 2048, 4096],\n",
       " [0, 4, 16, 36, 64])"
      ]
     },
     "execution_count": 129,
     "metadata": {},
     "output_type": "execute_result"
    }
   ],
   "source": [
    "S = [x**2 for x in range(10)]\n",
    "V = [2**i for i in range(13)]\n",
    "M = [x for x in S if x % 2 == 0]\n",
    "\n",
    "S,V,M"
   ]
  },
  {
   "cell_type": "code",
   "execution_count": 168,
   "metadata": {},
   "outputs": [
    {
     "name": "stdout",
     "output_type": "stream",
     "text": [
      "[[1, 4, 7], [2, 5, 8], [3, 6, 9], [10, 1, 12]]\n"
     ]
    },
    {
     "data": {
      "text/plain": [
       "[[1, 4, 7], [2, 5, 8], [3, 6, 9], [10, 1, 12]]"
      ]
     },
     "execution_count": 168,
     "metadata": {},
     "output_type": "execute_result"
    }
   ],
   "source": [
    "# transpose\n",
    "matrix = [[1,2,3,10],[4,5,6,1],[7,8,9,12]]\n",
    "main_l =[]\n",
    "for col in range(0,len(matrix[0])):\n",
    "    my_l = []\n",
    "    for row in matrix:\n",
    "        my_l.append(row[col])\n",
    "    main_l.append(my_l)\n",
    "print(main_l)\n",
    "\n",
    "#or\n",
    "[[row[col] for row in matrix] for col in range(0,4)]"
   ]
  },
  {
   "cell_type": "code",
   "execution_count": 192,
   "metadata": {},
   "outputs": [
    {
     "name": "stdout",
     "output_type": "stream",
     "text": [
      "<filter object at 0x112065f98>\n",
      "[5, 7, 97, 77, 23, 73, 61]\n"
     ]
    }
   ],
   "source": [
    "# filter\n",
    "li = [5, 7, 22, 97, 54, 62, 77, 23, 73, 61] \n",
    "final_list = list(filter(lambda x: (x%2 != 0) , li)) \n",
    "print(filter(lambda x: (x%2 != 0) , li))\n",
    "\n",
    "print(final_list) "
   ]
  },
  {
   "cell_type": "code",
   "execution_count": 206,
   "metadata": {},
   "outputs": [
    {
     "data": {
      "text/plain": [
       "[5, 7, 97, 77, 23, 73, 61]"
      ]
     },
     "execution_count": 206,
     "metadata": {},
     "output_type": "execute_result"
    }
   ],
   "source": [
    "list(filter(lambda x: (x%2 != 0) , li)) "
   ]
  },
  {
   "cell_type": "code",
   "execution_count": 232,
   "metadata": {},
   "outputs": [
    {
     "data": {
      "text/plain": [
       "2"
      ]
     },
     "execution_count": 232,
     "metadata": {},
     "output_type": "execute_result"
    }
   ],
   "source": [
    "(lambda x, y, z: (x + y) if (z == 0) else (x * y))(1, 2, 3) "
   ]
  },
  {
   "cell_type": "code",
   "execution_count": 236,
   "metadata": {},
   "outputs": [
    {
     "name": "stdout",
     "output_type": "stream",
     "text": [
      "[2, 4, 6, 8]\n"
     ]
    }
   ],
   "source": [
    "# map() function returns a map object(which is an iterator) \n",
    "# of the results after applying the given function to each item of a given iterable (list, tuple etc.)\n",
    "def addition(n): \n",
    "    return n + n \n",
    "  \n",
    "# We double all numbers using map() \n",
    "numbers = (1, 2, 3, 4) \n",
    "result = map(addition, numbers) \n",
    "print(list(result)) "
   ]
  },
  {
   "cell_type": "code",
   "execution_count": 15,
   "metadata": {},
   "outputs": [
    {
     "name": "stdout",
     "output_type": "stream",
     "text": [
      "0.6761605629999963\n",
      "0.055083751999973174\n"
     ]
    }
   ],
   "source": [
    "\n",
    "import timeit\n",
    "\n",
    "code = \"\"\"\n",
    "def sum():\n",
    "    return [x for x in range(0,10)]\n",
    "\"\"\" \n",
    "\n",
    "print(timeit.timeit(stmt=\"[x for x in range(0,10)]\"))\n",
    "print(timeit.timeit(stmt=code))"
   ]
  },
  {
   "cell_type": "code",
   "execution_count": 49,
   "metadata": {},
   "outputs": [
    {
     "data": {
      "text/plain": [
       "0.12257238699999107"
      ]
     },
     "execution_count": 49,
     "metadata": {},
     "output_type": "execute_result"
    }
   ],
   "source": [
    "def f(x,y):\n",
    "    return x*y\n",
    "\n",
    "x = 5\n",
    "y = 7\n",
    "timeit.timeit(stmt='f(x,y)',globals=locals())"
   ]
  },
  {
   "cell_type": "code",
   "execution_count": 28,
   "metadata": {},
   "outputs": [
    {
     "data": {
      "text/plain": [
       "0.7251129350000838"
      ]
     },
     "execution_count": 28,
     "metadata": {},
     "output_type": "execute_result"
    }
   ],
   "source": [
    "timeit.timeit(stmt=\"[x for x in range(0,9)]\")"
   ]
  },
  {
   "cell_type": "code",
   "execution_count": 29,
   "metadata": {},
   "outputs": [],
   "source": []
  },
  {
   "cell_type": "code",
   "execution_count": 52,
   "metadata": {},
   "outputs": [
    {
     "name": "stdout",
     "output_type": "stream",
     "text": [
      "[1, 2, 3] [4, 5, 6]\n",
      "{1: 4, 2: 5, 3: 6}\n"
     ]
    }
   ],
   "source": [
    "my_list = [1,2,3,[4,5,6]]\n",
    "a=[]\n",
    "b=[]\n",
    "for i in my_list:\n",
    "    if type(i)==int:\n",
    "        a.append(i)\n",
    "    else:\n",
    "        b.extend(i)\n",
    "        \n",
    "print(a,b)\n",
    "print(dict(zip(a,b)))"
   ]
  },
  {
   "cell_type": "code",
   "execution_count": 53,
   "metadata": {},
   "outputs": [
    {
     "data": {
      "text/plain": [
       "Counter({1: 2, 22: 2, 33: 1, 34: 1})"
      ]
     },
     "execution_count": 53,
     "metadata": {},
     "output_type": "execute_result"
    }
   ],
   "source": [
    "from collections import Counter\n",
    "\n",
    "my_list = [1,1,22,33,22,34]\n",
    "Counter(my_list)"
   ]
  },
  {
   "cell_type": "code",
   "execution_count": 66,
   "metadata": {},
   "outputs": [
    {
     "data": {
      "text/plain": [
       "[True, True, True]"
      ]
     },
     "execution_count": 66,
     "metadata": {},
     "output_type": "execute_result"
    }
   ],
   "source": [
    "test_tup1 = (10, 4, 5) \n",
    "test_tup2 = (13, 5, 18) \n",
    "list(x < y for x, y in zip(test_tup1, test_tup2)) \n"
   ]
  },
  {
   "cell_type": "code",
   "execution_count": 237,
   "metadata": {},
   "outputs": [],
   "source": [
    "a = [1,2,3,4,5]\n",
    "a.pop() # works for index,if index not present ->IndexError: pop index out of range\n",
    "a.remove(2)# works for value, if value is not der, it errors out ->ValueError: list.remove(x): x not in list\n",
    "a.insert(4,11) # inserts 11 at 4th position. If index is not present then insert at the end of the list"
   ]
  },
  {
   "cell_type": "code",
   "execution_count": 26,
   "metadata": {},
   "outputs": [],
   "source": [
    "b=[(1,2),(3,4)]\n",
    "b[0][1] =10 # TypeError: 'tuple' object does not support item assignment"
   ]
  },
  {
   "cell_type": "code",
   "execution_count": 174,
   "metadata": {},
   "outputs": [
    {
     "data": {
      "text/plain": [
       "1"
      ]
     },
     "execution_count": 174,
     "metadata": {},
     "output_type": "execute_result"
    }
   ],
   "source": [
    "# tuple has only 2 methods, index() - gives index of a value and count()- gives count of a value\n",
    "c =(1,2,3,2)\n",
    "c.index(2) "
   ]
  },
  {
   "cell_type": "code",
   "execution_count": 176,
   "metadata": {},
   "outputs": [
    {
     "data": {
      "text/plain": [
       "2"
      ]
     },
     "execution_count": 176,
     "metadata": {},
     "output_type": "execute_result"
    }
   ],
   "source": [
    "c.count(2)"
   ]
  },
  {
   "cell_type": "code",
   "execution_count": 182,
   "metadata": {},
   "outputs": [],
   "source": [
    "bb =([1,2],3,4)"
   ]
  },
  {
   "cell_type": "code",
   "execution_count": 184,
   "metadata": {},
   "outputs": [],
   "source": [
    "bb[0][1]=22"
   ]
  },
  {
   "cell_type": "code",
   "execution_count": 193,
   "metadata": {},
   "outputs": [
    {
     "data": {
      "text/plain": [
       "''"
      ]
     },
     "execution_count": 193,
     "metadata": {},
     "output_type": "execute_result"
    }
   ],
   "source": [
    "a=''\n",
    "b=a\n",
    "a='a'\n",
    "b"
   ]
  },
  {
   "cell_type": "code",
   "execution_count": 189,
   "metadata": {},
   "outputs": [
    {
     "name": "stdout",
     "output_type": "stream",
     "text": [
      "4589062792 4587374664\n"
     ]
    },
    {
     "data": {
      "text/plain": [
       "False"
      ]
     },
     "execution_count": 189,
     "metadata": {},
     "output_type": "execute_result"
    }
   ],
   "source": [
    "a=[]\n",
    "b=[]\n",
    "print(id(a), id(b)) # prints memory address\n",
    "a is b # compares address of a and b"
   ]
  },
  {
   "cell_type": "code",
   "execution_count": 96,
   "metadata": {},
   "outputs": [
    {
     "name": "stdout",
     "output_type": "stream",
     "text": [
      "a:[1, 2, 3, 4] address:4474240200\n",
      "b: [1, 2, 3, 4] address:4474240200\n",
      "After appending\n",
      "a:[1, 2, 3, 4, 10] address:4474240200\n",
      "b: [1, 2, 3, 4, 10] address:4474240200\n"
     ]
    }
   ],
   "source": [
    "a = [1,2,3,4]\n",
    "print(f'a:{a} address:{id(a)}')\n",
    "b = a\n",
    "print(f'b: {b} address:{id(a)}')\n",
    "b.append(10)\n",
    "print('After appending')\n",
    "print(f'a:{a} address:{id(a)}')\n",
    "print(f'b: {b} address:{id(a)}')"
   ]
  },
  {
   "cell_type": "code",
   "execution_count": 84,
   "metadata": {},
   "outputs": [
    {
     "name": "stdout",
     "output_type": "stream",
     "text": [
      "4473164872 4425697480\n"
     ]
    }
   ],
   "source": [
    "print(id(a), id(b))"
   ]
  },
  {
   "cell_type": "code",
   "execution_count": 54,
   "metadata": {},
   "outputs": [
    {
     "name": "stdout",
     "output_type": "stream",
     "text": [
      "a:[1, 2, 3, 4] address:4500524424\n",
      "b: [1, 2, 3, 4] address:4500410056\n",
      "After appending\n",
      "a:[1, 2, 3, 4] address:4500524424\n",
      "b: [1, 2, 3, 4, 10] address:4500410056\n",
      "[1, 2, 3, 4] [1, 2, 3, 4, 10]\n"
     ]
    }
   ],
   "source": [
    "a = [1,2,3,4]\n",
    "print(f'a:{a} address:{id(a)}')\n",
    "b = a.copy()\n",
    "print(f'b: {b} address:{id(b)}')\n",
    "b.append(10)\n",
    "print('After appending')\n",
    "print(f'a:{a} address:{id(a)}')\n",
    "print(f'b: {b} address:{id(b)}')\n",
    "\n",
    "\n",
    "print(a,b)\n",
    "# b = copy.copy(a) # shallow copy, will change original nested list also\n",
    "# b = copy.deep(a) # deep copy, will not change original nested list"
   ]
  },
  {
   "cell_type": "code",
   "execution_count": 240,
   "metadata": {},
   "outputs": [
    {
     "name": "stdout",
     "output_type": "stream",
     "text": [
      "b: [1, [2], 3, 4]\n",
      "[1, [123], 3, 4] [1, [123], 3, 4]\n"
     ]
    }
   ],
   "source": [
    "import copy \n",
    "a =[1,[2],3,4]\n",
    "b = copy.copy(a) \n",
    "print(f'b: {b}')\n",
    "b[1][0]=123\n",
    "\n",
    "print(a,b)"
   ]
  },
  {
   "cell_type": "code",
   "execution_count": 241,
   "metadata": {},
   "outputs": [
    {
     "data": {
      "text/plain": [
       "(4396977288, 4399282056)"
      ]
     },
     "execution_count": 241,
     "metadata": {},
     "output_type": "execute_result"
    }
   ],
   "source": [
    "id(a),id(b)"
   ]
  },
  {
   "cell_type": "code",
   "execution_count": 102,
   "metadata": {},
   "outputs": [],
   "source": [
    "# iterable - can be looped over\n",
    "\n",
    "# iterator - obj with a state"
   ]
  },
  {
   "cell_type": "code",
   "execution_count": 123,
   "metadata": {},
   "outputs": [],
   "source": [
    "# # file operation\n",
    "# # We can use the file object as an iterator. The iterator will return each line one by one, which can be processed. \n",
    "# # This will not read the whole file into memory and it’s suitable to read large files in Python.\n",
    "\n",
    "# with open(\"test.txt\", \"r\") as f:\n",
    "# \tpass\n",
    "\n",
    "# \t#Small Files:\n",
    "# \tf_contents = f.read()\n",
    "# \tprint(f_contents)\n",
    "\n",
    "# \t#Big Files:\n",
    "# \tf_contents = f.readlines()\n",
    "# \tprint(f_contents)\n",
    "    \n",
    "#     ##Iterating through the file:\n",
    "# \tfor line in f:\n",
    "# \t\tprint(line, end = '')\n",
    "        \n",
    "#     ###Iterating through small chunks:\n",
    "# \tsize_to_read = 100\n",
    "# \tf_contents = f.read(size_to_read)\n",
    "# \twhile len(f_contents) > 0:\n",
    "# \t\tprint(f_contents)\n",
    "# \t\tf_contents = f.read(size_to_read)"
   ]
  },
  {
   "cell_type": "code",
   "execution_count": 196,
   "metadata": {},
   "outputs": [
    {
     "name": "stdout",
     "output_type": "stream",
     "text": [
      "140.0\n",
      "abhi\n",
      "130.0\n",
      "shek\n"
     ]
    },
    {
     "data": {
      "text/plain": [
       "'100'"
      ]
     },
     "execution_count": 196,
     "metadata": {},
     "output_type": "execute_result"
    }
   ],
   "source": [
    "class Employee:\n",
    "    hike = 1.4 # class variable\n",
    "    def __init__(self,name,sal):\n",
    "        # instance variable\n",
    "        self.name = name\n",
    "        self.sal = sal\n",
    "        \n",
    "    def hike_amount(self):\n",
    "        return float(self.sal) * self.hike\n",
    "\n",
    "e1 = Employee('abhi','100')\n",
    "print(e1.hike_amount())\n",
    "print(e1.name) \n",
    "\n",
    "e2 = Employee('shek','100')\n",
    "e2.hike_amount()\n",
    "e2.name\n",
    "e2.sal\n",
    "\n",
    "Employee.hike=1.3\n",
    "e2 = Employee('shek','100')\n",
    "print(e2.hike_amount())\n",
    "print(e2.name)\n",
    "e2.sal"
   ]
  },
  {
   "cell_type": "code",
   "execution_count": 144,
   "metadata": {},
   "outputs": [
    {
     "name": "stdout",
     "output_type": "stream",
     "text": [
      "1.05\n",
      "1.05\n",
      "1.05\n",
      "John.Doe@email.com\n",
      "70000\n",
      "True\n"
     ]
    }
   ],
   "source": [
    "# types of method:\n",
    "# regular method\n",
    "# class method : \n",
    "# static method : dont take instance(self) or class variable as argument\n",
    "# class method can used to create additional constructor\n",
    "class Employee:\n",
    "\n",
    "    num_of_emps = 0\n",
    "    raise_amt = 1.04\n",
    "\n",
    "    def __init__(self, first, last, pay):\n",
    "        self.first = first\n",
    "        self.last = last\n",
    "        self.email = first + '.' + last + '@email.com'\n",
    "        self.pay = pay\n",
    "\n",
    "        Employee.num_of_emps += 1\n",
    "\n",
    "    def fullname(self):\n",
    "        return '{} {}'.format(self.first, self.last)\n",
    "\n",
    "    def apply_raise(self):\n",
    "        self.pay = int(self.pay * self.raise_amt)\n",
    "\n",
    "    @classmethod\n",
    "    def set_raise_amt(cls, amount):\n",
    "        cls.raise_amt = amount\n",
    "\n",
    "    @classmethod\n",
    "    def from_string(cls, emp_str):\n",
    "        first, last, pay = emp_str.split('-')\n",
    "        return cls(first, last, pay)\n",
    "\n",
    "    @staticmethod\n",
    "    def is_workday(day):\n",
    "        if day.weekday() == 5 or day.weekday() == 6:\n",
    "            return False\n",
    "        return True\n",
    "\n",
    "\n",
    "emp_1 = Employee('Corey', 'Schafer', 50000)\n",
    "emp_2 = Employee('Test', 'Employee', 60000)\n",
    "\n",
    "Employee.set_raise_amt(1.05)\n",
    "\n",
    "print(Employee.raise_amt)\n",
    "print(emp_1.raise_amt)\n",
    "print(emp_2.raise_amt)\n",
    "\n",
    "emp_str_1 = 'John-Doe-70000'\n",
    "emp_str_2 = 'Steve-Smith-30000'\n",
    "emp_str_3 = 'Jane-Doe-90000'\n",
    "\n",
    "first, last, pay = emp_str_1.split('-')\n",
    "\n",
    "#new_emp_1 = Employee(first, last, pay)\n",
    "new_emp_1 = Employee.from_string(emp_str_1)\n",
    "\n",
    "print(new_emp_1.email)\n",
    "print(new_emp_1.pay)\n",
    "\n",
    "import datetime\n",
    "my_date = datetime.date(2016, 7, 11)\n",
    "\n",
    "print(Employee.is_workday(my_date))"
   ]
  },
  {
   "cell_type": "code",
   "execution_count": 146,
   "metadata": {},
   "outputs": [],
   "source": [
    "# 200 ok success\n",
    "# 201 ok created\n",
    "# 204 no content success\n",
    "\n",
    "# 400 Bad Request\n",
    "# 401 Unauthorized\n",
    "# 403 Forbidden\n",
    "# 404 Not Found\n",
    "\n",
    "# 500 Internal Server Error\n",
    "# 502 Bad Gateway\n",
    "# 503 Service Unavailable\n",
    "# 504 Gateway Timeout"
   ]
  },
  {
   "cell_type": "code",
   "execution_count": 153,
   "metadata": {},
   "outputs": [
    {
     "data": {
      "text/plain": [
       "[5, 7, 9]"
      ]
     },
     "execution_count": 153,
     "metadata": {},
     "output_type": "execute_result"
    }
   ],
   "source": [
    "a = [1,2,3]\n",
    "b = [4,5,6]\n",
    "\n",
    "\n",
    "[(x,y) for x in a for y in b ]\n",
    "\n",
    "\n",
    "c = list(zip(a,b))\n",
    "nl=[]\n",
    "for i in c:\n",
    "    t =i[0]+i[1]\n",
    "    nl.append(t)\n",
    "nl"
   ]
  },
  {
   "cell_type": "code",
   "execution_count": 206,
   "metadata": {},
   "outputs": [],
   "source": [
    "a=[1,2,3,4]\n",
    "a.insert(111,21)\n",
    "\n",
    "a=[1,2]\n",
    "b=[1,2]"
   ]
  },
  {
   "cell_type": "code",
   "execution_count": 228,
   "metadata": {},
   "outputs": [
    {
     "data": {
      "text/plain": [
       "1500"
      ]
     },
     "execution_count": 228,
     "metadata": {},
     "output_type": "execute_result"
    }
   ],
   "source": [
    "a = (100, 200, 300, 400, 0, 500)\n",
    "\n",
    "sum(a)"
   ]
  },
  {
   "cell_type": "code",
   "execution_count": 201,
   "metadata": {},
   "outputs": [
    {
     "data": {
      "text/plain": [
       "[1, 2, 3]"
      ]
     },
     "execution_count": 201,
     "metadata": {},
     "output_type": "execute_result"
    }
   ],
   "source": [
    "input_list = ['1','2','3']\n",
    "list(map(int, input_list)) # converts str to int\n"
   ]
  },
  {
   "cell_type": "code",
   "execution_count": 249,
   "metadata": {},
   "outputs": [
    {
     "data": {
      "text/plain": [
       "[[1, 6], [2, 7], [3, 8]]"
      ]
     },
     "execution_count": 249,
     "metadata": {},
     "output_type": "execute_result"
    }
   ],
   "source": [
    "matrix = [[1, 2, 3],[6, 7, 8]] \n",
    "\n",
    "[[row[col] for row in matrix ] for col in range(3)]"
   ]
  },
  {
   "cell_type": "code",
   "execution_count": 55,
   "metadata": {},
   "outputs": [
    {
     "name": "stdout",
     "output_type": "stream",
     "text": [
      "1\n",
      "4\n",
      "9\n"
     ]
    }
   ],
   "source": [
    "def fun():\n",
    "    for i in range(1,4):\n",
    "        yield i**2\n",
    "\n",
    "for i in fun():\n",
    "    print(i)\n"
   ]
  },
  {
   "cell_type": "code",
   "execution_count": 57,
   "metadata": {},
   "outputs": [
    {
     "name": "stdout",
     "output_type": "stream",
     "text": [
      "1\n"
     ]
    }
   ],
   "source": [
    "print(next(fun()))\n"
   ]
  },
  {
   "cell_type": "code",
   "execution_count": 306,
   "metadata": {},
   "outputs": [
    {
     "name": "stdout",
     "output_type": "stream",
     "text": [
      "['the', 'quick', 'brown', 'fox', 'jumps', 'over', 'the', 'lazy', 'dog']\n"
     ]
    },
    {
     "data": {
      "text/plain": [
       "[5, 5, 3, 5, 4, 4, 3]"
      ]
     },
     "execution_count": 306,
     "metadata": {},
     "output_type": "execute_result"
    }
   ],
   "source": [
    "s = 'the quick brown fox jumps over the lazy dog'\n",
    "s = s.split(' ')\n",
    "print(s)\n",
    "[len(x) for x in s if x!='the']"
   ]
  },
  {
   "cell_type": "code",
   "execution_count": 309,
   "metadata": {},
   "outputs": [
    {
     "data": {
      "text/plain": [
       "['a', 'i']"
      ]
     },
     "execution_count": 309,
     "metadata": {},
     "output_type": "execute_result"
    }
   ],
   "source": [
    "a ='abhi'\n",
    "\n",
    "[x for x in a if x in ('a','e','i','o','u')]"
   ]
  },
  {
   "cell_type": "code",
   "execution_count": 221,
   "metadata": {},
   "outputs": [
    {
     "name": "stdout",
     "output_type": "stream",
     "text": [
      "<function <lambda> at 0x111893400>\n"
     ]
    }
   ],
   "source": [
    "s='some kind of a useless lambda'\n",
    "print(lambda string : print(string))"
   ]
  },
  {
   "cell_type": "code",
   "execution_count": 224,
   "metadata": {},
   "outputs": [
    {
     "name": "stdout",
     "output_type": "stream",
     "text": [
      "some kind of a useless lambda\n"
     ]
    }
   ],
   "source": [
    "a = lambda s : print(s)\n",
    "a(s)"
   ]
  },
  {
   "cell_type": "code",
   "execution_count": 346,
   "metadata": {},
   "outputs": [
    {
     "name": "stdout",
     "output_type": "stream",
     "text": [
      "abhi gowda\n",
      "abhishek gowda\n"
     ]
    }
   ],
   "source": [
    "class Employee:\n",
    "    def __init__(self,first,last):\n",
    "        self.first = first\n",
    "        self.last = last\n",
    "    \n",
    "    @property\n",
    "    def name(self):\n",
    "        return f\"{self.first} {self.last}\"\n",
    "    @name.setter\n",
    "    def name(self,fname):\n",
    "        self.first = fname\n",
    "    \n",
    "e1=Employee('abhi','gowda')   \n",
    "\n",
    "print(e1.name)\n",
    "e1.name = 'abhishek'\n",
    "print(e1.name)"
   ]
  },
  {
   "cell_type": "code",
   "execution_count": 5,
   "metadata": {},
   "outputs": [
    {
     "data": {
      "text/plain": [
       "4"
      ]
     },
     "execution_count": 5,
     "metadata": {},
     "output_type": "execute_result"
    }
   ],
   "source": [
    "# count num of spaces in string\n",
    "a = 'Abhishek is a good boy'\n",
    "a.count(' ')"
   ]
  },
  {
   "cell_type": "code",
   "execution_count": 252,
   "metadata": {},
   "outputs": [
    {
     "name": "stdout",
     "output_type": "stream",
     "text": [
      "Welcome Mike Olsen to the class of 2019\n",
      "Mike Olsen\n"
     ]
    }
   ],
   "source": [
    "# inheritance\n",
    "class Person:\n",
    "  def __init__(self, fname, lname):\n",
    "    self.firstname = fname\n",
    "    self.lastname = lname\n",
    "\n",
    "  def printname(self):\n",
    "    print(self.firstname, self.lastname)\n",
    "\n",
    "class Student(Person):\n",
    "  def __init__(self, fname, lname, year):\n",
    "    super().__init__(fname, lname)\n",
    "    self.graduationyear = year\n",
    "\n",
    "  def welcome(self):\n",
    "    print(\"Welcome\", self.firstname, self.lastname, \"to the class of\", self.graduationyear)\n",
    "\n",
    "x = Student(\"Mike\", \"Olsen\", 2019)\n",
    "x.welcome()\n",
    "x.printname()"
   ]
  },
  {
   "cell_type": "code",
   "execution_count": 246,
   "metadata": {},
   "outputs": [
    {
     "data": {
      "text/plain": [
       "'Mike'"
      ]
     },
     "execution_count": 246,
     "metadata": {},
     "output_type": "execute_result"
    }
   ],
   "source": [
    "x.firstname"
   ]
  },
  {
   "cell_type": "markdown",
   "metadata": {},
   "source": [
    " Flask-SQLAlchemy, an extension that provides a Flask-friendly wrapper to the popular SQLAlchemy package, \n",
    "    which is an Object Relational Mapper or ORM. \n",
    "    ORMs allow applications to manage a database using high-level entities such as classes, objects \n",
    "    and methods instead of tables and SQL. \n",
    "    The job of the ORM is to translate the high-level operations into database commands."
   ]
  },
  {
   "cell_type": "markdown",
   "metadata": {},
   "source": [
    "Now that I have a config file, I need to tell Flask to read it and apply it. That can be done right after the Flask application instance is created using the app.config.from_object() method:\n",
    "\n",
    "app/__init__.py: Flask configuration\n",
    "\n"
   ]
  },
  {
   "cell_type": "raw",
   "metadata": {},
   "source": [
    "from flask import Flask\n",
    "from config import Config\n",
    "\n",
    "app = Flask(__name__)\n",
    "app.config.from_object(Config)\n",
    "\n",
    "from app import routes"
   ]
  },
  {
   "cell_type": "raw",
   "metadata": {},
   "source": [
    "# config.py\n",
    "import os\n",
    "\n",
    "class Config(object):\n",
    "    SECRET_KEY = os.environ.get('SECRET_KEY') or 'you-will-never-guess'"
   ]
  },
  {
   "cell_type": "code",
   "execution_count": 297,
   "metadata": {},
   "outputs": [],
   "source": [
    "import datetime"
   ]
  },
  {
   "cell_type": "code",
   "execution_count": 298,
   "metadata": {},
   "outputs": [
    {
     "data": {
      "text/plain": [
       "datetime.datetime(2020, 4, 16, 3, 0)"
      ]
     },
     "execution_count": 298,
     "metadata": {},
     "output_type": "execute_result"
    }
   ],
   "source": [
    "res = '2020-04-16 03:00:00'\n",
    "\n",
    "datetime.datetime.strptime(res, '%Y-%m-%d %H:%M:%S')"
   ]
  },
  {
   "cell_type": "code",
   "execution_count": 299,
   "metadata": {},
   "outputs": [
    {
     "data": {
      "text/plain": [
       "False"
      ]
     },
     "execution_count": 299,
     "metadata": {},
     "output_type": "execute_result"
    }
   ],
   "source": [
    "datetime.datetime.now() < datetime.datetime.strptime(res, '%Y-%m-%d %H:%M:%S')"
   ]
  },
  {
   "cell_type": "code",
   "execution_count": null,
   "metadata": {},
   "outputs": [],
   "source": []
  },
  {
   "cell_type": "code",
   "execution_count": 331,
   "metadata": {},
   "outputs": [],
   "source": [
    "a = ('a','b')"
   ]
  },
  {
   "cell_type": "markdown",
   "metadata": {},
   "source": [
    "str.maketrans takes a dictionary and replaces all the keys in the dictionary with the values.\n",
    "\n",
    "fromkeys produces a dictionary where all the values are one thing - None by default.\n",
    "\n",
    "maketrans interprets values of None as \"remove\". Otherwise it would replace. In other words I just used fromkeys() as a shortcut to this:\n",
    "\n"
   ]
  },
  {
   "cell_type": "code",
   "execution_count": 390,
   "metadata": {},
   "outputs": [
    {
     "name": "stdout",
     "output_type": "stream",
     "text": [
      "{40: None, 41: None}\n"
     ]
    },
    {
     "data": {
      "text/plain": [
       "'this is a test'"
      ]
     },
     "execution_count": 390,
     "metadata": {},
     "output_type": "execute_result"
    }
   ],
   "source": [
    "# remove parenthesis\n",
    "a = '(this) (is) (a) (test)'\n",
    "table = str.maketrans(dict.fromkeys(\"()\"))\n",
    "print(table)\n",
    "str(a).translate(table)"
   ]
  },
  {
   "cell_type": "code",
   "execution_count": 389,
   "metadata": {},
   "outputs": [
    {
     "name": "stdout",
     "output_type": "stream",
     "text": [
      "{'(': None, ')': None}\n",
      "{'(': None, ')': None}\n"
     ]
    }
   ],
   "source": [
    "d = dict.fromkeys(['(',')'])\n",
    "print(d)\n",
    "# or\n",
    "d = dict.fromkeys(\"()\")\n",
    "print(d)"
   ]
  },
  {
   "cell_type": "code",
   "execution_count": 382,
   "metadata": {},
   "outputs": [
    {
     "data": {
      "text/plain": [
       "{'(': ['a'], 1: ['a'], 2: ['a']}"
      ]
     },
     "execution_count": 382,
     "metadata": {},
     "output_type": "execute_result"
    }
   ],
   "source": [
    "dict.fromkeys(['(',1,2],['a']) # accepts listof keys or key and value. creates dictionary of same values to all keys"
   ]
  },
  {
   "cell_type": "code",
   "execution_count": 378,
   "metadata": {},
   "outputs": [
    {
     "data": {
      "text/plain": [
       "'this is a test'"
      ]
     },
     "execution_count": 378,
     "metadata": {},
     "output_type": "execute_result"
    }
   ],
   "source": [
    "# remove parentesis, join used convert list to string\n",
    "string1 = '(this) (is) (a) (test)'\n",
    "\n",
    "''.join(x for x in string1 if x not in '()')"
   ]
  },
  {
   "cell_type": "raw",
   "metadata": {},
   "source": [
    "# num of cores \n",
    "nproc --all\n",
    "Gunicorn\n",
    "num of workers  = 2 (num of cores in machine) + 1\n",
    "\n",
    "supervisor : monitor gunicorn , auto restarting \n",
    "sudo apt install supervisor\n",
    "\n",
    "inside /etc/supervisor/conf.d/flask_app.conf\n",
    "\n",
    "gunicorn -w 4 -b 127.0.0.1:4000 myproject:app"
   ]
  },
  {
   "cell_type": "markdown",
   "metadata": {},
   "source": [
    "from flask import Flask\n",
    "app = Flask(__name__)\n",
    "\n",
    "\n",
    "@app.route('/')\n",
    "def hello():\n",
    "    return \"Hello World!\"\n",
    "\n",
    "if __name__ == '__main__':\n",
    "    app.run()"
   ]
  },
  {
   "cell_type": "markdown",
   "metadata": {},
   "source": [
    "from flask import Flask, Blueprint, request\n",
    "app.register_blueprint(audit_module)\n",
    "\n",
    "# Define the blueprint: 'retailer_metrics'\n",
    "mod_retailer = Blueprint('retailer_metrics', __name__, url_prefix='/v1.0/mod_retailer')"
   ]
  },
  {
   "cell_type": "code",
   "execution_count": 5,
   "metadata": {},
   "outputs": [
    {
     "data": {
      "text/plain": [
       "0"
      ]
     },
     "execution_count": 5,
     "metadata": {},
     "output_type": "execute_result"
    }
   ],
   "source": [
    "import os\n",
    "os.path.getsize('3p_test.csv')>> 20\n",
    "# os.getcwd()"
   ]
  },
  {
   "cell_type": "code",
   "execution_count": 6,
   "metadata": {},
   "outputs": [
    {
     "data": {
      "text/plain": [
       "853"
      ]
     },
     "execution_count": 6,
     "metadata": {},
     "output_type": "execute_result"
    }
   ],
   "source": [
    "os.path.getsize('airflow.tar.gz')>> 20"
   ]
  },
  {
   "cell_type": "markdown",
   "metadata": {},
   "source": [
    "webserver - computer which delivers the webpages. It has domain name and Ip address.\n",
    "\n",
    "Nginx - webserver, make sures the response time is reduces,page load time is reduced, open source.\n",
    "master driven archetecture\n",
    "\n",
    "workers - accepts request and process request - can process 1000 of request\n",
    "master - reading and validation configuration. creating sockets, monitoring worker processes\n",
    "\n",
    "cache loader - inmemory database, traverse dir \n",
    "cache manager - responsible for \n",
    "\n",
    "it easily handles concurrent requests. \n",
    "can b upgraded without downtime\n",
    "\n",
    "\n",
    "context - event and http\n",
    "configuration\n",
    "worker processes - num of cpu cpres\n",
    "worker connection - max connection, how many people can use it simulatneosly\n",
    "access and error log\n",
    "gzip \n",
    "\n",
    "sudo apt-get install nginx\n",
    "enable firwall \n",
    "sudo ufw enable # \n",
    "nginx -v\n",
    "sudo ufw app list # list application \n",
    "\n",
    "http  80 - unencryted traffic \n",
    "https 443 - encrypted traffic\n",
    "\n",
    "sudo ufw allow \"nginx full\" # nable access\n",
    "\n",
    "suod ufw status # check allowed status\n",
    "sudo systemctl status nginx\n",
    "cd /etc/nginx\n",
    "sites\n"
   ]
  },
  {
   "cell_type": "code",
   "execution_count": 1,
   "metadata": {},
   "outputs": [],
   "source": [
    "# kill -9 $(lsof -t -i:6379)"
   ]
  },
  {
   "cell_type": "markdown",
   "metadata": {},
   "source": [
    "redis  remote dir server\n",
    "inmemory key-value store with persistence"
   ]
  },
  {
   "cell_type": "code",
   "execution_count": 286,
   "metadata": {},
   "outputs": [
    {
     "data": {
      "text/plain": [
       "['MC001', 'MC002', 'MC123']"
      ]
     },
     "execution_count": 286,
     "metadata": {},
     "output_type": "execute_result"
    }
   ],
   "source": [
    "crisp_issue_no = 'MC001,MC002,MC123'\n",
    "\n",
    "crisp_issue_no.split(',')"
   ]
  },
  {
   "cell_type": "raw",
   "metadata": {},
   "source": [
    "IAM : centralized control of AWS account\n",
    "\n"
   ]
  },
  {
   "cell_type": "code",
   "execution_count": 20,
   "metadata": {},
   "outputs": [
    {
     "data": {
      "text/html": [
       "<div>\n",
       "<style scoped>\n",
       "    .dataframe tbody tr th:only-of-type {\n",
       "        vertical-align: middle;\n",
       "    }\n",
       "\n",
       "    .dataframe tbody tr th {\n",
       "        vertical-align: top;\n",
       "    }\n",
       "\n",
       "    .dataframe thead th {\n",
       "        text-align: right;\n",
       "    }\n",
       "</style>\n",
       "<table border=\"1\" class=\"dataframe\">\n",
       "  <thead>\n",
       "    <tr style=\"text-align: right;\">\n",
       "      <th></th>\n",
       "      <th>Impressions</th>\n",
       "      <th>crisplineitemID</th>\n",
       "    </tr>\n",
       "  </thead>\n",
       "  <tbody>\n",
       "    <tr>\n",
       "      <th>0</th>\n",
       "      <td>32</td>\n",
       "      <td>C-AQ0224L001</td>\n",
       "    </tr>\n",
       "  </tbody>\n",
       "</table>\n",
       "</div>"
      ],
      "text/plain": [
       "  Impressions crisplineitemID\n",
       "0          32    C-AQ0224L001"
      ]
     },
     "execution_count": 20,
     "metadata": {},
     "output_type": "execute_result"
    }
   ],
   "source": [
    "import pandas as pd\n",
    "from decimal import Decimal\n",
    "imp = [{'crisplineitemID': 'C-AQ0224L001', 'Impressions': Decimal('32')}]\n",
    "imp\n",
    "df2 = pd.DataFrame(imp)\n",
    "df2"
   ]
  },
  {
   "cell_type": "markdown",
   "metadata": {},
   "source": [
    "Cross-site request forgery\n",
    "A CSRF token is a unique, secret, unpredictable value that is generated by the server-side application and transmitted to the client in such a way that it is included in a subsequent HTTP request made by the client.\n",
    "\n",
    "\n",
    "PDB commands include\n",
    "\n",
    "<b>: It adds a breakpoint\n",
    "<c>: It resumes the execution\n",
    "<s>: It debugs step by step\n",
    "<n>: It moves to next line\n",
    "<l>: It lists the source code\n",
    "<p>: It prints an expression"
   ]
  }
 ],
 "metadata": {
  "kernelspec": {
   "display_name": "Python 3",
   "language": "python",
   "name": "python3"
  },
  "language_info": {
   "codemirror_mode": {
    "name": "ipython",
    "version": 3
   },
   "file_extension": ".py",
   "mimetype": "text/x-python",
   "name": "python",
   "nbconvert_exporter": "python",
   "pygments_lexer": "ipython3",
   "version": "3.7.3"
  }
 },
 "nbformat": 4,
 "nbformat_minor": 2
}
